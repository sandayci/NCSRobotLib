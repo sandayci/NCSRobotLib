{
 "cells": [
  {
   "cell_type": "code",
   "execution_count": 25,
   "metadata": {
    "collapsed": false
   },
   "outputs": [
    {
     "name": "stdout",
     "output_type": "stream",
     "text": [
      "The autoreload extension is already loaded. To reload it, use:\n",
      "  %reload_ext autoreload\n"
     ]
    }
   ],
   "source": [
    "from utils.experiment import Experiment, get_experiments\n",
    "from utils.plotting import plot_spikes, plot_populations\n",
    "from utils.defaults import *\n",
    "import matplotlib.pyplot as plt\n",
    "import matplotlib.patches as patches\n",
    "import matplotlib.image as mpimg\n",
    "from matplotlib import rcParams\n",
    "import matplotlib.gridspec as gridspec\n",
    "from mpl_toolkits.mplot3d import Axes3D\n",
    "import numpy as np\n",
    "import pandas as pd\n",
    "import os\n",
    "#matplotlib inline\n",
    "rcParams['figure.figsize'] = (8.0, 6.0)\n",
    "%load_ext autoreload\n",
    "%autoreload 2\n",
    "\n",
    "# adapt to your computer\n",
    "log_folder = \"/Users/hermann/Dropbox/ETH/9_Semester/NeuroBot/RobotNav_SemesterProject/ISCAS_Data/logs\"\n",
    "# log_folder = \"/Users/hermann/Dropbox/ETH/9_Semester/NeuroBot/plotting/logs\"\n",
    "snap_folder = \"/Users/hermann/Dropbox/ETH/9_Semester/NeuroBot/RobotNav_SemesterProject/Data/snapshots\"\n",
    "plot_folder = \"/Users/hermann/Dropbox/ETH/9_Semester/NeuroBot/RobotNav_SemesterProject/ISCAS_Plots/raw/\""
   ]
  },
  {
   "cell_type": "code",
   "execution_count": 2,
   "metadata": {
    "collapsed": false
   },
   "outputs": [
    {
     "data": {
      "text/plain": [
       "'black_figure_1_19700106T124718'"
      ]
     },
     "execution_count": 2,
     "metadata": {},
     "output_type": "execute_result"
    }
   ],
   "source": [
    "exp = Experiment(\"black_figure_1\", log_folder=log_folder)\n",
    "exp.experiment_name"
   ]
  },
  {
   "cell_type": "code",
   "execution_count": null,
   "metadata": {
    "collapsed": false
   },
   "outputs": [],
   "source": [
    "print_spikes(exp)\n",
    "plt.show()"
   ]
  },
  {
   "cell_type": "code",
   "execution_count": 27,
   "metadata": {
    "collapsed": false
   },
   "outputs": [
    {
     "name": "stderr",
     "output_type": "stream",
     "text": [
      "/Users/hermann/Dropbox/ETH/9_Semester/NeuroBot/eDVS_event_display_server_udp/py3/lib/python3.5/site-packages/matplotlib/pyplot.py:524: RuntimeWarning: More than 20 figures have been opened. Figures created through the pyplot interface (`matplotlib.pyplot.figure`) are retained until explicitly closed and may consume too much memory. (To control this warning, see the rcParam `figure.max_open_warning`).\n",
      "  max_open_warning, RuntimeWarning)\n"
     ]
    }
   ],
   "source": [
    "# Show available experiments\n",
    "for experiment_name in list(get_experiments(log_folder)[0]):\n",
    "    print_spikes(Experiment(experiment_name, log_folder=log_folder))"
   ]
  },
  {
   "cell_type": "code",
   "execution_count": 26,
   "metadata": {
    "collapsed": false
   },
   "outputs": [],
   "source": [
    "def print_spikes(exp):\n",
    "\n",
    "    # edvs prints\n",
    "\n",
    "    fig = plt.figure(figsize=(8, 6)) \n",
    "    gs = gridspec.GridSpec(6, 1) \n",
    "    gs.update(left=0.08, right=0.82, hspace=0.3)\n",
    "\n",
    "    row_title_style = {\n",
    "        'size': 'large',\n",
    "        'weight': 'bold',\n",
    "        'verticalalignment': 'center',\n",
    "        'horizontalalignment': 'left',\n",
    "        'rotation': 'vertical'\n",
    "    }\n",
    "\n",
    "    plot_style = {\n",
    "        'lw': 2\n",
    "    }\n",
    "\n",
    "    imu = plt.subplot(gs[:1, :])\n",
    "\n",
    "    plot_populations(exp.df_rolls, {'imu left': '#ff4500', 'imu right': '#6495ed'})\n",
    "    plt.setp(imu.get_xticklabels(), visible=False)\n",
    "\n",
    "    tgt = plt.subplot(gs[1:, :], sharex=imu)\n",
    "    plot_populations(exp.df_rolls, {'obstacle left': '#ff4500', 'obstacle right': '#6495ed',\n",
    "                                    'turn left': '#ff4500', 'turn right': '#6495ed',\n",
    "                                    'speed': '#555555'})\n",
    "\n",
    "    # relabel to seconds\n",
    "\n",
    "    tgt.set_xlim(0, tgt.get_xlim()[1])\n",
    "    tgt.set_xticklabels([\"{:.0f}\".format(x/1000) for x in tgt.get_xticks()])\n",
    "    tgt.set_xlabel('time [s]', **label_style)\n",
    "\n",
    "    fig.text(0, 0.5, 'neural activity', **row_title_style)\n",
    "\n",
    "#     plt.show()\n",
    "\n",
    "    raw_dir = plot_folder\n",
    "    save_dir = raw_dir + exp.experiment_name\n",
    "    if not os.path.isdir(save_dir):\n",
    "        os.makedirs(save_dir)\n",
    "    fig.savefig(\"{}/{}_spikes.pdf\".format(save_dir, exp.experiment_name), dpi=90)"
   ]
  },
  {
   "cell_type": "markdown",
   "metadata": {
    "collapsed": false
   },
   "source": [
    "# exp.df_robot"
   ]
  },
  {
   "cell_type": "code",
   "execution_count": 4,
   "metadata": {
    "collapsed": false
   },
   "outputs": [
    {
     "data": {
      "text/plain": [
       "(0.0, 80.0)"
      ]
     },
     "execution_count": 4,
     "metadata": {},
     "output_type": "execute_result"
    }
   ],
   "source": [
    "tgt.get_ylim()"
   ]
  },
  {
   "cell_type": "code",
   "execution_count": null,
   "metadata": {
    "collapsed": true
   },
   "outputs": [],
   "source": []
  }
 ],
 "metadata": {
  "kernelspec": {
   "display_name": "Python 3",
   "language": "python",
   "name": "python3"
  },
  "language_info": {
   "codemirror_mode": {
    "name": "ipython",
    "version": 3
   },
   "file_extension": ".py",
   "mimetype": "text/x-python",
   "name": "python",
   "nbconvert_exporter": "python",
   "pygments_lexer": "ipython3",
   "version": "3.5.2"
  }
 },
 "nbformat": 4,
 "nbformat_minor": 1
}
